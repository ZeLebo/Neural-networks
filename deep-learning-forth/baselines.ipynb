{
 "cells": [
  {
   "cell_type": "code",
   "execution_count": 3,
   "metadata": {
    "collapsed": true,
    "ExecuteTime": {
     "end_time": "2023-06-01T07:29:51.597585500Z",
     "start_time": "2023-06-01T07:29:50.877821Z"
    }
   },
   "outputs": [
    {
     "name": "stderr",
     "output_type": "stream",
     "text": [
      "WARNING: Skipping stable-baselines as it is not installed.\n"
     ]
    }
   ],
   "source": [
    "!pip uninstall stable-baselines[mpi]"
   ]
  },
  {
   "cell_type": "code",
   "execution_count": 6,
   "outputs": [
    {
     "ename": "ImportError",
     "evalue": "cannot import name 'PPO2' from 'stable_baselines3' (C:\\Users\\sarta\\scoop\\apps\\python\\3.11.3\\Lib\\site-packages\\stable_baselines3\\__init__.py)",
     "output_type": "error",
     "traceback": [
      "\u001B[1;31m---------------------------------------------------------------------------\u001B[0m",
      "\u001B[1;31mImportError\u001B[0m                               Traceback (most recent call last)",
      "Cell \u001B[1;32mIn[6], line 1\u001B[0m\n\u001B[1;32m----> 1\u001B[0m \u001B[38;5;28;01mfrom\u001B[39;00m \u001B[38;5;21;01mstable_baselines3\u001B[39;00m \u001B[38;5;28;01mimport\u001B[39;00m PPO2\n\u001B[0;32m      3\u001B[0m model \u001B[38;5;241m=\u001B[39m PPO2(\u001B[38;5;124m\"\u001B[39m\u001B[38;5;124mMlpPolicy\u001B[39m\u001B[38;5;124m\"\u001B[39m, \u001B[38;5;124m\"\u001B[39m\u001B[38;5;124mCartPole-v1\u001B[39m\u001B[38;5;124m\"\u001B[39m)\u001B[38;5;241m.\u001B[39mlearn(\u001B[38;5;241m1000\u001B[39m)\n",
      "\u001B[1;31mImportError\u001B[0m: cannot import name 'PPO2' from 'stable_baselines3' (C:\\Users\\sarta\\scoop\\apps\\python\\3.11.3\\Lib\\site-packages\\stable_baselines3\\__init__.py)"
     ]
    }
   ],
   "source": [
    "from stable_baselines3 import PPO2\n",
    "\n",
    "model = PPO2(\"MlpPolicy\", \"CartPole-v1\").learn(1000)"
   ],
   "metadata": {
    "collapsed": false,
    "ExecuteTime": {
     "end_time": "2023-06-01T07:29:57.892459400Z",
     "start_time": "2023-06-01T07:29:57.879713900Z"
    }
   }
  },
  {
   "cell_type": "code",
   "execution_count": null,
   "outputs": [],
   "source": [],
   "metadata": {
    "collapsed": false
   }
  }
 ],
 "metadata": {
  "kernelspec": {
   "display_name": "Python 3",
   "language": "python",
   "name": "python3"
  },
  "language_info": {
   "codemirror_mode": {
    "name": "ipython",
    "version": 2
   },
   "file_extension": ".py",
   "mimetype": "text/x-python",
   "name": "python",
   "nbconvert_exporter": "python",
   "pygments_lexer": "ipython2",
   "version": "2.7.6"
  }
 },
 "nbformat": 4,
 "nbformat_minor": 0
}
