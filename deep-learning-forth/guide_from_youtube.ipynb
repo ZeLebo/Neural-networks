{
 "cells": [
  {
   "cell_type": "code",
   "execution_count": 4,
   "outputs": [
    {
     "name": "stdout",
     "output_type": "stream",
     "text": [
      "Requirement already satisfied: tensorflow==2.12.0 in c:\\users\\sarta\\scoop\\apps\\python\\current\\lib\\site-packages (2.12.0)\n",
      "Collecting gym\n",
      "  Using cached gym-0.26.2-py3-none-any.whl\n",
      "Requirement already satisfied: keras-rl2 in c:\\users\\sarta\\scoop\\apps\\python\\current\\lib\\site-packages (1.0.5)\n",
      "Requirement already satisfied: tensorflow-intel==2.12.0 in c:\\users\\sarta\\scoop\\apps\\python\\current\\lib\\site-packages (from tensorflow==2.12.0) (2.12.0)\n",
      "Requirement already satisfied: absl-py>=1.0.0 in c:\\users\\sarta\\scoop\\apps\\python\\current\\lib\\site-packages (from tensorflow-intel==2.12.0->tensorflow==2.12.0) (1.4.0)\n",
      "Requirement already satisfied: astunparse>=1.6.0 in c:\\users\\sarta\\scoop\\apps\\python\\current\\lib\\site-packages (from tensorflow-intel==2.12.0->tensorflow==2.12.0) (1.6.3)\n",
      "Requirement already satisfied: flatbuffers>=2.0 in c:\\users\\sarta\\scoop\\apps\\python\\current\\lib\\site-packages (from tensorflow-intel==2.12.0->tensorflow==2.12.0) (23.5.26)\n",
      "Requirement already satisfied: gast<=0.4.0,>=0.2.1 in c:\\users\\sarta\\scoop\\apps\\python\\current\\lib\\site-packages (from tensorflow-intel==2.12.0->tensorflow==2.12.0) (0.4.0)\n",
      "Requirement already satisfied: google-pasta>=0.1.1 in c:\\users\\sarta\\scoop\\apps\\python\\current\\lib\\site-packages (from tensorflow-intel==2.12.0->tensorflow==2.12.0) (0.2.0)\n",
      "Requirement already satisfied: h5py>=2.9.0 in c:\\users\\sarta\\scoop\\apps\\python\\current\\lib\\site-packages (from tensorflow-intel==2.12.0->tensorflow==2.12.0) (3.8.0)\n",
      "Requirement already satisfied: jax>=0.3.15 in c:\\users\\sarta\\scoop\\apps\\python\\current\\lib\\site-packages (from tensorflow-intel==2.12.0->tensorflow==2.12.0) (0.4.10)\n",
      "Requirement already satisfied: libclang>=13.0.0 in c:\\users\\sarta\\scoop\\apps\\python\\current\\lib\\site-packages (from tensorflow-intel==2.12.0->tensorflow==2.12.0) (16.0.0)\n",
      "Requirement already satisfied: numpy<1.24,>=1.22 in c:\\users\\sarta\\scoop\\apps\\python\\current\\lib\\site-packages (from tensorflow-intel==2.12.0->tensorflow==2.12.0) (1.23.5)\n",
      "Requirement already satisfied: opt-einsum>=2.3.2 in c:\\users\\sarta\\scoop\\apps\\python\\current\\lib\\site-packages (from tensorflow-intel==2.12.0->tensorflow==2.12.0) (3.3.0)\n",
      "Requirement already satisfied: packaging in c:\\users\\sarta\\scoop\\apps\\python\\current\\lib\\site-packages (from tensorflow-intel==2.12.0->tensorflow==2.12.0) (23.1)\n",
      "Requirement already satisfied: protobuf!=4.21.0,!=4.21.1,!=4.21.2,!=4.21.3,!=4.21.4,!=4.21.5,<5.0.0dev,>=3.20.3 in c:\\users\\sarta\\scoop\\apps\\python\\current\\lib\\site-packages (from tensorflow-intel==2.12.0->tensorflow==2.12.0) (4.23.2)\n",
      "Requirement already satisfied: setuptools in c:\\users\\sarta\\scoop\\apps\\python\\current\\lib\\site-packages (from tensorflow-intel==2.12.0->tensorflow==2.12.0) (65.5.0)\n",
      "Requirement already satisfied: six>=1.12.0 in c:\\users\\sarta\\scoop\\apps\\python\\current\\lib\\site-packages (from tensorflow-intel==2.12.0->tensorflow==2.12.0) (1.16.0)\n",
      "Requirement already satisfied: termcolor>=1.1.0 in c:\\users\\sarta\\scoop\\apps\\python\\current\\lib\\site-packages (from tensorflow-intel==2.12.0->tensorflow==2.12.0) (2.3.0)\n",
      "Requirement already satisfied: typing-extensions>=3.6.6 in c:\\users\\sarta\\scoop\\apps\\python\\current\\lib\\site-packages (from tensorflow-intel==2.12.0->tensorflow==2.12.0) (4.6.2)\n",
      "Requirement already satisfied: wrapt<1.15,>=1.11.0 in c:\\users\\sarta\\scoop\\apps\\python\\current\\lib\\site-packages (from tensorflow-intel==2.12.0->tensorflow==2.12.0) (1.14.1)\n",
      "Requirement already satisfied: grpcio<2.0,>=1.24.3 in c:\\users\\sarta\\scoop\\apps\\python\\current\\lib\\site-packages (from tensorflow-intel==2.12.0->tensorflow==2.12.0) (1.54.2)\n",
      "Requirement already satisfied: tensorboard<2.13,>=2.12 in c:\\users\\sarta\\scoop\\apps\\python\\current\\lib\\site-packages (from tensorflow-intel==2.12.0->tensorflow==2.12.0) (2.12.3)\n",
      "Requirement already satisfied: tensorflow-estimator<2.13,>=2.12.0 in c:\\users\\sarta\\scoop\\apps\\python\\current\\lib\\site-packages (from tensorflow-intel==2.12.0->tensorflow==2.12.0) (2.12.0)\n",
      "Requirement already satisfied: keras<2.13,>=2.12.0 in c:\\users\\sarta\\scoop\\apps\\python\\current\\lib\\site-packages (from tensorflow-intel==2.12.0->tensorflow==2.12.0) (2.12.0)\n",
      "Requirement already satisfied: tensorflow-io-gcs-filesystem>=0.23.1 in c:\\users\\sarta\\scoop\\apps\\python\\current\\lib\\site-packages (from tensorflow-intel==2.12.0->tensorflow==2.12.0) (0.31.0)\n",
      "Requirement already satisfied: cloudpickle>=1.2.0 in c:\\users\\sarta\\scoop\\apps\\python\\current\\lib\\site-packages (from gym) (2.2.1)\n",
      "Requirement already satisfied: gym-notices>=0.0.4 in c:\\users\\sarta\\scoop\\apps\\python\\current\\lib\\site-packages (from gym) (0.0.8)\n",
      "Collecting ale-py~=0.8.0\n",
      "  Using cached ale_py-0.8.1-cp311-cp311-win_amd64.whl (952 kB)\n",
      "Requirement already satisfied: importlib-resources in c:\\users\\sarta\\scoop\\apps\\python\\current\\lib\\site-packages (from ale-py~=0.8.0->gym) (5.12.0)\n",
      "Requirement already satisfied: wheel<1.0,>=0.23.0 in c:\\users\\sarta\\scoop\\apps\\python\\current\\lib\\site-packages (from astunparse>=1.6.0->tensorflow-intel==2.12.0->tensorflow==2.12.0) (0.40.0)\n",
      "Requirement already satisfied: ml-dtypes>=0.1.0 in c:\\users\\sarta\\scoop\\apps\\python\\current\\lib\\site-packages (from jax>=0.3.15->tensorflow-intel==2.12.0->tensorflow==2.12.0) (0.1.0)\n",
      "Requirement already satisfied: scipy>=1.7 in c:\\users\\sarta\\scoop\\apps\\python\\current\\lib\\site-packages (from jax>=0.3.15->tensorflow-intel==2.12.0->tensorflow==2.12.0) (1.10.1)\n",
      "Requirement already satisfied: google-auth<3,>=1.6.3 in c:\\users\\sarta\\scoop\\apps\\python\\current\\lib\\site-packages (from tensorboard<2.13,>=2.12->tensorflow-intel==2.12.0->tensorflow==2.12.0) (2.19.0)\n",
      "Requirement already satisfied: google-auth-oauthlib<1.1,>=0.5 in c:\\users\\sarta\\scoop\\apps\\python\\current\\lib\\site-packages (from tensorboard<2.13,>=2.12->tensorflow-intel==2.12.0->tensorflow==2.12.0) (1.0.0)\n",
      "Requirement already satisfied: markdown>=2.6.8 in c:\\users\\sarta\\scoop\\apps\\python\\current\\lib\\site-packages (from tensorboard<2.13,>=2.12->tensorflow-intel==2.12.0->tensorflow==2.12.0) (3.4.3)\n",
      "Requirement already satisfied: requests<3,>=2.21.0 in c:\\users\\sarta\\scoop\\apps\\python\\current\\lib\\site-packages (from tensorboard<2.13,>=2.12->tensorflow-intel==2.12.0->tensorflow==2.12.0) (2.31.0)\n",
      "Requirement already satisfied: tensorboard-data-server<0.8.0,>=0.7.0 in c:\\users\\sarta\\scoop\\apps\\python\\current\\lib\\site-packages (from tensorboard<2.13,>=2.12->tensorflow-intel==2.12.0->tensorflow==2.12.0) (0.7.0)\n",
      "Requirement already satisfied: werkzeug>=1.0.1 in c:\\users\\sarta\\scoop\\apps\\python\\current\\lib\\site-packages (from tensorboard<2.13,>=2.12->tensorflow-intel==2.12.0->tensorflow==2.12.0) (2.3.4)\n",
      "Requirement already satisfied: cachetools<6.0,>=2.0.0 in c:\\users\\sarta\\scoop\\apps\\python\\current\\lib\\site-packages (from google-auth<3,>=1.6.3->tensorboard<2.13,>=2.12->tensorflow-intel==2.12.0->tensorflow==2.12.0) (5.3.1)\n",
      "Requirement already satisfied: pyasn1-modules>=0.2.1 in c:\\users\\sarta\\scoop\\apps\\python\\current\\lib\\site-packages (from google-auth<3,>=1.6.3->tensorboard<2.13,>=2.12->tensorflow-intel==2.12.0->tensorflow==2.12.0) (0.3.0)\n",
      "Requirement already satisfied: rsa<5,>=3.1.4 in c:\\users\\sarta\\scoop\\apps\\python\\current\\lib\\site-packages (from google-auth<3,>=1.6.3->tensorboard<2.13,>=2.12->tensorflow-intel==2.12.0->tensorflow==2.12.0) (4.9)\n",
      "Requirement already satisfied: urllib3<2.0 in c:\\users\\sarta\\scoop\\apps\\python\\current\\lib\\site-packages (from google-auth<3,>=1.6.3->tensorboard<2.13,>=2.12->tensorflow-intel==2.12.0->tensorflow==2.12.0) (1.26.16)\n",
      "Requirement already satisfied: requests-oauthlib>=0.7.0 in c:\\users\\sarta\\scoop\\apps\\python\\current\\lib\\site-packages (from google-auth-oauthlib<1.1,>=0.5->tensorboard<2.13,>=2.12->tensorflow-intel==2.12.0->tensorflow==2.12.0) (1.3.1)\n",
      "Requirement already satisfied: charset-normalizer<4,>=2 in c:\\users\\sarta\\scoop\\apps\\python\\current\\lib\\site-packages (from requests<3,>=2.21.0->tensorboard<2.13,>=2.12->tensorflow-intel==2.12.0->tensorflow==2.12.0) (3.1.0)\n",
      "Requirement already satisfied: idna<4,>=2.5 in c:\\users\\sarta\\scoop\\apps\\python\\current\\lib\\site-packages (from requests<3,>=2.21.0->tensorboard<2.13,>=2.12->tensorflow-intel==2.12.0->tensorflow==2.12.0) (3.4)\n",
      "Requirement already satisfied: certifi>=2017.4.17 in c:\\users\\sarta\\scoop\\apps\\python\\current\\lib\\site-packages (from requests<3,>=2.21.0->tensorboard<2.13,>=2.12->tensorflow-intel==2.12.0->tensorflow==2.12.0) (2023.5.7)\n",
      "Requirement already satisfied: MarkupSafe>=2.1.1 in c:\\users\\sarta\\scoop\\apps\\python\\current\\lib\\site-packages (from werkzeug>=1.0.1->tensorboard<2.13,>=2.12->tensorflow-intel==2.12.0->tensorflow==2.12.0) (2.1.2)\n",
      "Requirement already satisfied: pyasn1<0.6.0,>=0.4.6 in c:\\users\\sarta\\scoop\\apps\\python\\current\\lib\\site-packages (from pyasn1-modules>=0.2.1->google-auth<3,>=1.6.3->tensorboard<2.13,>=2.12->tensorflow-intel==2.12.0->tensorflow==2.12.0) (0.5.0)\n",
      "Requirement already satisfied: oauthlib>=3.0.0 in c:\\users\\sarta\\scoop\\apps\\python\\current\\lib\\site-packages (from requests-oauthlib>=0.7.0->google-auth-oauthlib<1.1,>=0.5->tensorboard<2.13,>=2.12->tensorflow-intel==2.12.0->tensorflow==2.12.0) (3.2.2)\n",
      "Installing collected packages: gym, ale-py\n",
      "Successfully installed ale-py-0.8.1 gym-0.26.2\n"
     ]
    },
    {
     "name": "stderr",
     "output_type": "stream",
     "text": [
      "\n",
      "[notice] A new release of pip available: 22.3.1 -> 23.1.2\n",
      "[notice] To update, run: C:\\Users\\sarta\\scoop\\apps\\python\\current\\python.exe -m pip install --upgrade pip\n"
     ]
    }
   ],
   "source": [
    "'''Installing dependencies'''\n",
    "!pip install tensorflow==2.12.0 gym keras-rl2 gym[atari]"
   ],
   "metadata": {
    "collapsed": false,
    "ExecuteTime": {
     "end_time": "2023-06-01T07:46:32.657470800Z",
     "start_time": "2023-06-01T07:46:28.957131200Z"
    }
   }
  },
  {
   "cell_type": "code",
   "execution_count": 1,
   "outputs": [],
   "source": [
    "# test env with OpenAI GYM\n",
    "import gym\n",
    "import random"
   ],
   "metadata": {
    "collapsed": false,
    "ExecuteTime": {
     "end_time": "2023-06-01T07:58:10.074442200Z",
     "start_time": "2023-06-01T07:58:09.872319400Z"
    }
   }
  },
  {
   "cell_type": "code",
   "execution_count": 3,
   "outputs": [
    {
     "ename": "AttributeError",
     "evalue": "'AtariEnv' object has no attribute 'actions_space'",
     "output_type": "error",
     "traceback": [
      "\u001B[1;31m---------------------------------------------------------------------------\u001B[0m",
      "\u001B[1;31mAttributeError\u001B[0m                            Traceback (most recent call last)",
      "Cell \u001B[1;32mIn[3], line 3\u001B[0m\n\u001B[0;32m      1\u001B[0m env \u001B[38;5;241m=\u001B[39m gym\u001B[38;5;241m.\u001B[39mmake(\u001B[38;5;124m\"\u001B[39m\u001B[38;5;124mSpaceInvaders-v4\u001B[39m\u001B[38;5;124m\"\u001B[39m)\n\u001B[0;32m      2\u001B[0m height, width, channels \u001B[38;5;241m=\u001B[39m env\u001B[38;5;241m.\u001B[39mobservation_space\u001B[38;5;241m.\u001B[39mshape\n\u001B[1;32m----> 3\u001B[0m actions \u001B[38;5;241m=\u001B[39m \u001B[43menv\u001B[49m\u001B[38;5;241;43m.\u001B[39;49m\u001B[43mactions_space\u001B[49m\u001B[38;5;241m.\u001B[39mn\n\u001B[0;32m      5\u001B[0m env\u001B[38;5;241m.\u001B[39munwrapped\u001B[38;5;241m.\u001B[39mget_action_meaning()\n",
      "File \u001B[1;32m~\\scoop\\apps\\python\\3.11.3\\Lib\\site-packages\\gym\\core.py:241\u001B[0m, in \u001B[0;36mWrapper.__getattr__\u001B[1;34m(self, name)\u001B[0m\n\u001B[0;32m    239\u001B[0m \u001B[38;5;28;01mif\u001B[39;00m name\u001B[38;5;241m.\u001B[39mstartswith(\u001B[38;5;124m\"\u001B[39m\u001B[38;5;124m_\u001B[39m\u001B[38;5;124m\"\u001B[39m):\n\u001B[0;32m    240\u001B[0m     \u001B[38;5;28;01mraise\u001B[39;00m \u001B[38;5;167;01mAttributeError\u001B[39;00m(\u001B[38;5;124mf\u001B[39m\u001B[38;5;124m\"\u001B[39m\u001B[38;5;124maccessing private attribute \u001B[39m\u001B[38;5;124m'\u001B[39m\u001B[38;5;132;01m{\u001B[39;00mname\u001B[38;5;132;01m}\u001B[39;00m\u001B[38;5;124m'\u001B[39m\u001B[38;5;124m is prohibited\u001B[39m\u001B[38;5;124m\"\u001B[39m)\n\u001B[1;32m--> 241\u001B[0m \u001B[38;5;28;01mreturn\u001B[39;00m \u001B[38;5;28;43mgetattr\u001B[39;49m\u001B[43m(\u001B[49m\u001B[38;5;28;43mself\u001B[39;49m\u001B[38;5;241;43m.\u001B[39;49m\u001B[43menv\u001B[49m\u001B[43m,\u001B[49m\u001B[43m \u001B[49m\u001B[43mname\u001B[49m\u001B[43m)\u001B[49m\n",
      "File \u001B[1;32m~\\scoop\\apps\\python\\3.11.3\\Lib\\site-packages\\gym\\core.py:241\u001B[0m, in \u001B[0;36mWrapper.__getattr__\u001B[1;34m(self, name)\u001B[0m\n\u001B[0;32m    239\u001B[0m \u001B[38;5;28;01mif\u001B[39;00m name\u001B[38;5;241m.\u001B[39mstartswith(\u001B[38;5;124m\"\u001B[39m\u001B[38;5;124m_\u001B[39m\u001B[38;5;124m\"\u001B[39m):\n\u001B[0;32m    240\u001B[0m     \u001B[38;5;28;01mraise\u001B[39;00m \u001B[38;5;167;01mAttributeError\u001B[39;00m(\u001B[38;5;124mf\u001B[39m\u001B[38;5;124m\"\u001B[39m\u001B[38;5;124maccessing private attribute \u001B[39m\u001B[38;5;124m'\u001B[39m\u001B[38;5;132;01m{\u001B[39;00mname\u001B[38;5;132;01m}\u001B[39;00m\u001B[38;5;124m'\u001B[39m\u001B[38;5;124m is prohibited\u001B[39m\u001B[38;5;124m\"\u001B[39m)\n\u001B[1;32m--> 241\u001B[0m \u001B[38;5;28;01mreturn\u001B[39;00m \u001B[38;5;28;43mgetattr\u001B[39;49m\u001B[43m(\u001B[49m\u001B[38;5;28;43mself\u001B[39;49m\u001B[38;5;241;43m.\u001B[39;49m\u001B[43menv\u001B[49m\u001B[43m,\u001B[49m\u001B[43m \u001B[49m\u001B[43mname\u001B[49m\u001B[43m)\u001B[49m\n",
      "\u001B[1;31mAttributeError\u001B[0m: 'AtariEnv' object has no attribute 'actions_space'"
     ]
    }
   ],
   "source": [
    "env = gym.make(\"SpaceInvaders-v4\")\n",
    "height, width, channels = env.observation_space.shape\n",
    "actions = env.actions_space.n\n",
    "\n",
    "env.unwrapped.get_action_meaning()"
   ],
   "metadata": {
    "collapsed": false,
    "ExecuteTime": {
     "end_time": "2023-06-01T08:51:32.698256Z",
     "start_time": "2023-06-01T08:51:32.620346700Z"
    }
   }
  },
  {
   "cell_type": "code",
   "execution_count": null,
   "outputs": [],
   "source": [],
   "metadata": {
    "collapsed": false
   }
  }
 ],
 "metadata": {
  "kernelspec": {
   "display_name": "Python 3",
   "language": "python",
   "name": "python3"
  },
  "language_info": {
   "codemirror_mode": {
    "name": "ipython",
    "version": 2
   },
   "file_extension": ".py",
   "mimetype": "text/x-python",
   "name": "python",
   "nbconvert_exporter": "python",
   "pygments_lexer": "ipython2",
   "version": "2.7.6"
  }
 },
 "nbformat": 4,
 "nbformat_minor": 0
}
