{
 "cells": [
  {
   "cell_type": "code",
   "execution_count": 2,
   "metadata": {},
   "outputs": [
    {
     "name": "stderr",
     "output_type": "stream",
     "text": [
      "c:\\Users\\sarta\\AppData\\Local\\Programs\\Python\\Python310\\lib\\site-packages\\gym\\envs\\registration.py:280: UserWarning: \u001b[33mWARN: cannot import name 'Mapping' from 'collections' (c:\\Users\\sarta\\AppData\\Local\\Programs\\Python\\Python310\\lib\\collections\\__init__.py)\u001b[0m\n",
      "  logger.warn(str(e))\n"
     ]
    },
    {
     "ename": "AttributeError",
     "evalue": "partially initialized module 'gym' has no attribute 'core' (most likely due to a circular import)",
     "output_type": "error",
     "traceback": [
      "\u001b[1;31m---------------------------------------------------------------------------\u001b[0m",
      "\u001b[1;31mAttributeError\u001b[0m                            Traceback (most recent call last)",
      "\u001b[1;32mc:\\Users\\sarta\\Proger\\Neural-networks\\deep-learning-forth\\main.ipynb Cell 1\u001b[0m in \u001b[0;36m6\n\u001b[0;32m      <a href='vscode-notebook-cell:/c%3A/Users/sarta/Proger/Neural-networks/deep-learning-forth/main.ipynb#W0sZmlsZQ%3D%3D?line=2'>3</a>\u001b[0m \u001b[39mexcept\u001b[39;00m \u001b[39mImportError\u001b[39;00m:\n\u001b[0;32m      <a href='vscode-notebook-cell:/c%3A/Users/sarta/Proger/Neural-networks/deep-learning-forth/main.ipynb#W0sZmlsZQ%3D%3D?line=3'>4</a>\u001b[0m     \u001b[39mfrom\u001b[39;00m \u001b[39mcollections\u001b[39;00m \u001b[39mimport\u001b[39;00m Mapping\n\u001b[1;32m----> <a href='vscode-notebook-cell:/c%3A/Users/sarta/Proger/Neural-networks/deep-learning-forth/main.ipynb#W0sZmlsZQ%3D%3D?line=5'>6</a>\u001b[0m \u001b[39mimport\u001b[39;00m \u001b[39mgym\u001b[39;00m\n\u001b[0;32m      <a href='vscode-notebook-cell:/c%3A/Users/sarta/Proger/Neural-networks/deep-learning-forth/main.ipynb#W0sZmlsZQ%3D%3D?line=6'>7</a>\u001b[0m \u001b[39mfrom\u001b[39;00m \u001b[39mstable_baselines3\u001b[39;00m \u001b[39mimport\u001b[39;00m PPO\n\u001b[0;32m      <a href='vscode-notebook-cell:/c%3A/Users/sarta/Proger/Neural-networks/deep-learning-forth/main.ipynb#W0sZmlsZQ%3D%3D?line=7'>8</a>\u001b[0m \u001b[39mfrom\u001b[39;00m \u001b[39mstable_baselines3\u001b[39;00m\u001b[39m.\u001b[39;00m\u001b[39mcommon\u001b[39;00m\u001b[39m.\u001b[39;00m\u001b[39mvec_env\u001b[39;00m \u001b[39mimport\u001b[39;00m VecFrameStack\n",
      "File \u001b[1;32mc:\\Users\\sarta\\AppData\\Local\\Programs\\Python\\Python310\\lib\\site-packages\\gym\\__init__.py:16\u001b[0m\n\u001b[0;32m     14\u001b[0m \u001b[39mfrom\u001b[39;00m \u001b[39mgym\u001b[39;00m \u001b[39mimport\u001b[39;00m logger\n\u001b[0;32m     15\u001b[0m \u001b[39mfrom\u001b[39;00m \u001b[39mgym\u001b[39;00m \u001b[39mimport\u001b[39;00m vector\n\u001b[1;32m---> 16\u001b[0m \u001b[39mfrom\u001b[39;00m \u001b[39mgym\u001b[39;00m \u001b[39mimport\u001b[39;00m wrappers\n\u001b[0;32m     18\u001b[0m __all__ \u001b[39m=\u001b[39m [\u001b[39m\"\u001b[39m\u001b[39mEnv\u001b[39m\u001b[39m\"\u001b[39m, \u001b[39m\"\u001b[39m\u001b[39mSpace\u001b[39m\u001b[39m\"\u001b[39m, \u001b[39m\"\u001b[39m\u001b[39mWrapper\u001b[39m\u001b[39m\"\u001b[39m, \u001b[39m\"\u001b[39m\u001b[39mmake\u001b[39m\u001b[39m\"\u001b[39m, \u001b[39m\"\u001b[39m\u001b[39mspec\u001b[39m\u001b[39m\"\u001b[39m, \u001b[39m\"\u001b[39m\u001b[39mregister\u001b[39m\u001b[39m\"\u001b[39m]\n",
      "File \u001b[1;32mc:\\Users\\sarta\\AppData\\Local\\Programs\\Python\\Python310\\lib\\site-packages\\gym\\wrappers\\__init__.py:17\u001b[0m\n\u001b[0;32m     15\u001b[0m \u001b[39mfrom\u001b[39;00m \u001b[39mgym\u001b[39;00m\u001b[39m.\u001b[39;00m\u001b[39mwrappers\u001b[39;00m\u001b[39m.\u001b[39;00m\u001b[39mclip_action\u001b[39;00m \u001b[39mimport\u001b[39;00m ClipAction\n\u001b[0;32m     16\u001b[0m \u001b[39mfrom\u001b[39;00m \u001b[39mgym\u001b[39;00m\u001b[39m.\u001b[39;00m\u001b[39mwrappers\u001b[39;00m\u001b[39m.\u001b[39;00m\u001b[39mrecord_episode_statistics\u001b[39;00m \u001b[39mimport\u001b[39;00m RecordEpisodeStatistics\n\u001b[1;32m---> 17\u001b[0m \u001b[39mfrom\u001b[39;00m \u001b[39mgym\u001b[39;00m\u001b[39m.\u001b[39;00m\u001b[39mwrappers\u001b[39;00m\u001b[39m.\u001b[39;00m\u001b[39mnormalize\u001b[39;00m \u001b[39mimport\u001b[39;00m NormalizeObservation, NormalizeReward\n\u001b[0;32m     18\u001b[0m \u001b[39mfrom\u001b[39;00m \u001b[39mgym\u001b[39;00m\u001b[39m.\u001b[39;00m\u001b[39mwrappers\u001b[39;00m\u001b[39m.\u001b[39;00m\u001b[39mrecord_video\u001b[39;00m \u001b[39mimport\u001b[39;00m RecordVideo, capped_cubic_video_schedule\n",
      "File \u001b[1;32mc:\\Users\\sarta\\AppData\\Local\\Programs\\Python\\Python310\\lib\\site-packages\\gym\\wrappers\\normalize.py:41\u001b[0m\n\u001b[0;32m     36\u001b[0m     new_count \u001b[39m=\u001b[39m tot_count\n\u001b[0;32m     38\u001b[0m     \u001b[39mreturn\u001b[39;00m new_mean, new_var, new_count\n\u001b[1;32m---> 41\u001b[0m \u001b[39mclass\u001b[39;00m \u001b[39mNormalizeObservation\u001b[39;00m(gym\u001b[39m.\u001b[39;49mcore\u001b[39m.\u001b[39mWrapper):\n\u001b[0;32m     42\u001b[0m     \u001b[39mdef\u001b[39;00m \u001b[39m__init__\u001b[39m(\n\u001b[0;32m     43\u001b[0m         \u001b[39mself\u001b[39m,\n\u001b[0;32m     44\u001b[0m         env,\n\u001b[0;32m     45\u001b[0m         epsilon\u001b[39m=\u001b[39m\u001b[39m1e-8\u001b[39m,\n\u001b[0;32m     46\u001b[0m     ):\n\u001b[0;32m     47\u001b[0m         \u001b[39msuper\u001b[39m(NormalizeObservation, \u001b[39mself\u001b[39m)\u001b[39m.\u001b[39m\u001b[39m__init__\u001b[39m(env)\n",
      "\u001b[1;31mAttributeError\u001b[0m: partially initialized module 'gym' has no attribute 'core' (most likely due to a circular import)"
     ]
    }
   ],
   "source": [
    "try:\n",
    "    from collections.abc import Mapping\n",
    "except ImportError:\n",
    "    from collections import Mapping\n",
    "\n",
    "import gym\n",
    "from stable_baselines3 import PPO\n",
    "from stable_baselines3.common.vec_env import VecFrameStack\n",
    "from stable_baselines3.common.evaluation import evaluate_policy\n",
    "from stable_baselines3.common.env_util import make_atari_env\n",
    "from stable_baselines3.common.callbacks import EvalCallback, StopTrainingOnRewardThreshold\n",
    "import os\n",
    "import numpy as np"
   ]
  },
  {
   "cell_type": "code",
   "execution_count": 1,
   "metadata": {},
   "outputs": [
    {
     "ename": "NameError",
     "evalue": "name 'make_atari_env' is not defined",
     "output_type": "error",
     "traceback": [
      "\u001b[1;31m---------------------------------------------------------------------------\u001b[0m",
      "\u001b[1;31mNameError\u001b[0m                                 Traceback (most recent call last)",
      "\u001b[1;32mc:\\Users\\sarta\\Proger\\Neural-networks\\deep-learning-forth\\main.ipynb Cell 2\u001b[0m in \u001b[0;36m6\n\u001b[0;32m      <a href='vscode-notebook-cell:/c%3A/Users/sarta/Proger/Neural-networks/deep-learning-forth/main.ipynb#W1sZmlsZQ%3D%3D?line=2'>3</a>\u001b[0m model_path \u001b[39m=\u001b[39m \u001b[39m\"\u001b[39m\u001b[39mmodels\u001b[39m\u001b[39m\"\u001b[39m\n\u001b[0;32m      <a href='vscode-notebook-cell:/c%3A/Users/sarta/Proger/Neural-networks/deep-learning-forth/main.ipynb#W1sZmlsZQ%3D%3D?line=4'>5</a>\u001b[0m \u001b[39m# env = gym.make(\"ALE/Breakout-v5\")\u001b[39;00m\n\u001b[1;32m----> <a href='vscode-notebook-cell:/c%3A/Users/sarta/Proger/Neural-networks/deep-learning-forth/main.ipynb#W1sZmlsZQ%3D%3D?line=5'>6</a>\u001b[0m env \u001b[39m=\u001b[39m make_atari_env(\u001b[39m\"\u001b[39m\u001b[39mALE/Breakout-v5\u001b[39m\u001b[39m\"\u001b[39m, n_envs\u001b[39m=\u001b[39m\u001b[39m4\u001b[39m, seed\u001b[39m=\u001b[39mseed)\n\u001b[0;32m      <a href='vscode-notebook-cell:/c%3A/Users/sarta/Proger/Neural-networks/deep-learning-forth/main.ipynb#W1sZmlsZQ%3D%3D?line=6'>7</a>\u001b[0m env \u001b[39m=\u001b[39m VecFrameStack(env, n_stack\u001b[39m=\u001b[39m\u001b[39m4\u001b[39m)\n",
      "\u001b[1;31mNameError\u001b[0m: name 'make_atari_env' is not defined"
     ]
    }
   ],
   "source": [
    "seed = 42\n",
    "logs = \"logs\"\n",
    "model_path = \"models\"\n",
    "\n",
    "# env = gym.make(\"ALE/Breakout-v5\")\n",
    "env = make_atari_env(\"ALE/Breakout-v5\", n_envs=4, seed=seed)\n",
    "env = VecFrameStack(env, n_stack=4)"
   ]
  },
  {
   "cell_type": "code",
   "execution_count": null,
   "metadata": {},
   "outputs": [],
   "source": []
  }
 ],
 "metadata": {
  "kernelspec": {
   "display_name": "Python 3",
   "language": "python",
   "name": "python3"
  },
  "language_info": {
   "codemirror_mode": {
    "name": "ipython",
    "version": 3
   },
   "file_extension": ".py",
   "mimetype": "text/x-python",
   "name": "python",
   "nbconvert_exporter": "python",
   "pygments_lexer": "ipython3",
   "version": "3.10.6"
  },
  "orig_nbformat": 4
 },
 "nbformat": 4,
 "nbformat_minor": 2
}
