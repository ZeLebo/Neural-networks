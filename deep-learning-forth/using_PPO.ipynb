{
 "cells": [
  {
   "cell_type": "code",
   "execution_count": 11,
   "outputs": [],
   "source": [
    "# !pip install stable-baselines3\n",
    "# !pip install gym==0.21\n",
    "# !pip install gym[atari]==0.21\n",
    "# !pip install gym[accept-rom-license]\n",
    "# !pip install ale-py\n",
    "# !pip install numpy==1.16.4\n"
   ],
   "metadata": {
    "collapsed": false,
    "ExecuteTime": {
     "end_time": "2023-06-01T07:15:50.496227600Z",
     "start_time": "2023-06-01T07:15:50.491223500Z"
    }
   }
  },
  {
   "cell_type": "code",
   "execution_count": 12,
   "outputs": [],
   "source": [
    "try:\n",
    "    from collections.abc import Mapping\n",
    "except ImportError:\n",
    "    from collections import Mapping\n",
    "\n",
    "import gym\n",
    "from stable_baselines3 import PPO\n",
    "from stable_baselines3.common.vec_env import VecFrameStack\n",
    "from stable_baselines3.common.evaluation import evaluate_policy\n",
    "from stable_baselines3.common.env_util import make_atari_env\n",
    "from stable_baselines3.common.callbacks import EvalCallback, StopTrainingOnRewardThreshold\n",
    "from stable_baselines3.common.vec_env import DummyVecEnv, VecNormalize, SubprocVecEnv, VecFrameStack\n",
    "from stable_baselines3.common.env_checker import check_env\n",
    "import os\n",
    "import numpy as np"
   ],
   "metadata": {
    "collapsed": false,
    "ExecuteTime": {
     "end_time": "2023-06-01T07:15:50.929722200Z",
     "start_time": "2023-06-01T07:15:50.923290800Z"
    }
   }
  },
  {
   "cell_type": "code",
   "execution_count": 14,
   "metadata": {
    "ExecuteTime": {
     "end_time": "2023-06-01T07:17:13.442458800Z",
     "start_time": "2023-06-01T07:17:13.159109600Z"
    }
   },
   "outputs": [
    {
     "ename": "TypeError",
     "evalue": "cannot pickle 'ale_py._ale_py.ALEInterface' object",
     "output_type": "error",
     "traceback": [
      "\u001B[1;31m---------------------------------------------------------------------------\u001B[0m",
      "\u001B[1;31mTypeError\u001B[0m                                 Traceback (most recent call last)",
      "Cell \u001B[1;32mIn[14], line 13\u001B[0m\n\u001B[0;32m     10\u001B[0m     environment \u001B[38;5;241m=\u001B[39m gym\u001B[38;5;241m.\u001B[39mwrappers\u001B[38;5;241m.\u001B[39mFrameStack(environment, num_stack\u001B[38;5;241m=\u001B[39m\u001B[38;5;241m4\u001B[39m)\n\u001B[0;32m     11\u001B[0m     \u001B[38;5;28;01mreturn\u001B[39;00m environment\n\u001B[1;32m---> 13\u001B[0m env \u001B[38;5;241m=\u001B[39m \u001B[43mSubprocVecEnv\u001B[49m\u001B[43m(\u001B[49m\u001B[43m[\u001B[49m\u001B[43mmake_env\u001B[49m\u001B[43m(\u001B[49m\u001B[43m)\u001B[49m\u001B[43m \u001B[49m\u001B[38;5;28;43;01mfor\u001B[39;49;00m\u001B[43m \u001B[49m\u001B[43m_\u001B[49m\u001B[43m \u001B[49m\u001B[38;5;129;43;01min\u001B[39;49;00m\u001B[43m \u001B[49m\u001B[38;5;28;43mrange\u001B[39;49m\u001B[43m(\u001B[49m\u001B[43mnum_envs\u001B[49m\u001B[43m)\u001B[49m\u001B[43m]\u001B[49m\u001B[43m)\u001B[49m\n\u001B[0;32m     14\u001B[0m env \u001B[38;5;241m=\u001B[39m VecFrameStack(env, n_stack\u001B[38;5;241m=\u001B[39mnum_envs)\n",
      "File \u001B[1;32m~\\scoop\\apps\\python\\3.11.3\\Lib\\site-packages\\stable_baselines3\\common\\vec_env\\subproc_vec_env.py:115\u001B[0m, in \u001B[0;36mSubprocVecEnv.__init__\u001B[1;34m(self, env_fns, start_method)\u001B[0m\n\u001B[0;32m    113\u001B[0m process \u001B[38;5;241m=\u001B[39m ctx\u001B[38;5;241m.\u001B[39mProcess(target\u001B[38;5;241m=\u001B[39m_worker, args\u001B[38;5;241m=\u001B[39margs, daemon\u001B[38;5;241m=\u001B[39m\u001B[38;5;28;01mTrue\u001B[39;00m)  \u001B[38;5;66;03m# type: ignore[attr-defined]\u001B[39;00m\n\u001B[0;32m    114\u001B[0m \u001B[38;5;66;03m# pytype: enable=attribute-error\u001B[39;00m\n\u001B[1;32m--> 115\u001B[0m \u001B[43mprocess\u001B[49m\u001B[38;5;241;43m.\u001B[39;49m\u001B[43mstart\u001B[49m\u001B[43m(\u001B[49m\u001B[43m)\u001B[49m\n\u001B[0;32m    116\u001B[0m \u001B[38;5;28mself\u001B[39m\u001B[38;5;241m.\u001B[39mprocesses\u001B[38;5;241m.\u001B[39mappend(process)\n\u001B[0;32m    117\u001B[0m work_remote\u001B[38;5;241m.\u001B[39mclose()\n",
      "File \u001B[1;32m~\\scoop\\apps\\python\\3.11.3\\Lib\\multiprocessing\\process.py:121\u001B[0m, in \u001B[0;36mBaseProcess.start\u001B[1;34m(self)\u001B[0m\n\u001B[0;32m    118\u001B[0m \u001B[38;5;28;01massert\u001B[39;00m \u001B[38;5;129;01mnot\u001B[39;00m _current_process\u001B[38;5;241m.\u001B[39m_config\u001B[38;5;241m.\u001B[39mget(\u001B[38;5;124m'\u001B[39m\u001B[38;5;124mdaemon\u001B[39m\u001B[38;5;124m'\u001B[39m), \\\n\u001B[0;32m    119\u001B[0m        \u001B[38;5;124m'\u001B[39m\u001B[38;5;124mdaemonic processes are not allowed to have children\u001B[39m\u001B[38;5;124m'\u001B[39m\n\u001B[0;32m    120\u001B[0m _cleanup()\n\u001B[1;32m--> 121\u001B[0m \u001B[38;5;28mself\u001B[39m\u001B[38;5;241m.\u001B[39m_popen \u001B[38;5;241m=\u001B[39m \u001B[38;5;28;43mself\u001B[39;49m\u001B[38;5;241;43m.\u001B[39;49m\u001B[43m_Popen\u001B[49m\u001B[43m(\u001B[49m\u001B[38;5;28;43mself\u001B[39;49m\u001B[43m)\u001B[49m\n\u001B[0;32m    122\u001B[0m \u001B[38;5;28mself\u001B[39m\u001B[38;5;241m.\u001B[39m_sentinel \u001B[38;5;241m=\u001B[39m \u001B[38;5;28mself\u001B[39m\u001B[38;5;241m.\u001B[39m_popen\u001B[38;5;241m.\u001B[39msentinel\n\u001B[0;32m    123\u001B[0m \u001B[38;5;66;03m# Avoid a refcycle if the target function holds an indirect\u001B[39;00m\n\u001B[0;32m    124\u001B[0m \u001B[38;5;66;03m# reference to the process object (see bpo-30775)\u001B[39;00m\n",
      "File \u001B[1;32m~\\scoop\\apps\\python\\3.11.3\\Lib\\multiprocessing\\context.py:336\u001B[0m, in \u001B[0;36mSpawnProcess._Popen\u001B[1;34m(process_obj)\u001B[0m\n\u001B[0;32m    333\u001B[0m \u001B[38;5;129m@staticmethod\u001B[39m\n\u001B[0;32m    334\u001B[0m \u001B[38;5;28;01mdef\u001B[39;00m \u001B[38;5;21m_Popen\u001B[39m(process_obj):\n\u001B[0;32m    335\u001B[0m     \u001B[38;5;28;01mfrom\u001B[39;00m \u001B[38;5;21;01m.\u001B[39;00m\u001B[38;5;21;01mpopen_spawn_win32\u001B[39;00m \u001B[38;5;28;01mimport\u001B[39;00m Popen\n\u001B[1;32m--> 336\u001B[0m     \u001B[38;5;28;01mreturn\u001B[39;00m \u001B[43mPopen\u001B[49m\u001B[43m(\u001B[49m\u001B[43mprocess_obj\u001B[49m\u001B[43m)\u001B[49m\n",
      "File \u001B[1;32m~\\scoop\\apps\\python\\3.11.3\\Lib\\multiprocessing\\popen_spawn_win32.py:94\u001B[0m, in \u001B[0;36mPopen.__init__\u001B[1;34m(self, process_obj)\u001B[0m\n\u001B[0;32m     92\u001B[0m \u001B[38;5;28;01mtry\u001B[39;00m:\n\u001B[0;32m     93\u001B[0m     reduction\u001B[38;5;241m.\u001B[39mdump(prep_data, to_child)\n\u001B[1;32m---> 94\u001B[0m     \u001B[43mreduction\u001B[49m\u001B[38;5;241;43m.\u001B[39;49m\u001B[43mdump\u001B[49m\u001B[43m(\u001B[49m\u001B[43mprocess_obj\u001B[49m\u001B[43m,\u001B[49m\u001B[43m \u001B[49m\u001B[43mto_child\u001B[49m\u001B[43m)\u001B[49m\n\u001B[0;32m     95\u001B[0m \u001B[38;5;28;01mfinally\u001B[39;00m:\n\u001B[0;32m     96\u001B[0m     set_spawning_popen(\u001B[38;5;28;01mNone\u001B[39;00m)\n",
      "File \u001B[1;32m~\\scoop\\apps\\python\\3.11.3\\Lib\\multiprocessing\\reduction.py:60\u001B[0m, in \u001B[0;36mdump\u001B[1;34m(obj, file, protocol)\u001B[0m\n\u001B[0;32m     58\u001B[0m \u001B[38;5;28;01mdef\u001B[39;00m \u001B[38;5;21mdump\u001B[39m(obj, file, protocol\u001B[38;5;241m=\u001B[39m\u001B[38;5;28;01mNone\u001B[39;00m):\n\u001B[0;32m     59\u001B[0m \u001B[38;5;250m    \u001B[39m\u001B[38;5;124;03m'''Replacement for pickle.dump() using ForkingPickler.'''\u001B[39;00m\n\u001B[1;32m---> 60\u001B[0m     \u001B[43mForkingPickler\u001B[49m\u001B[43m(\u001B[49m\u001B[43mfile\u001B[49m\u001B[43m,\u001B[49m\u001B[43m \u001B[49m\u001B[43mprotocol\u001B[49m\u001B[43m)\u001B[49m\u001B[38;5;241;43m.\u001B[39;49m\u001B[43mdump\u001B[49m\u001B[43m(\u001B[49m\u001B[43mobj\u001B[49m\u001B[43m)\u001B[49m\n",
      "File \u001B[1;32m~\\scoop\\apps\\python\\3.11.3\\Lib\\site-packages\\stable_baselines3\\common\\vec_env\\base_vec_env.py:436\u001B[0m, in \u001B[0;36mCloudpickleWrapper.__getstate__\u001B[1;34m(self)\u001B[0m\n\u001B[0;32m    435\u001B[0m \u001B[38;5;28;01mdef\u001B[39;00m \u001B[38;5;21m__getstate__\u001B[39m(\u001B[38;5;28mself\u001B[39m) \u001B[38;5;241m-\u001B[39m\u001B[38;5;241m>\u001B[39m Any:\n\u001B[1;32m--> 436\u001B[0m     \u001B[38;5;28;01mreturn\u001B[39;00m \u001B[43mcloudpickle\u001B[49m\u001B[38;5;241;43m.\u001B[39;49m\u001B[43mdumps\u001B[49m\u001B[43m(\u001B[49m\u001B[38;5;28;43mself\u001B[39;49m\u001B[38;5;241;43m.\u001B[39;49m\u001B[43mvar\u001B[49m\u001B[43m)\u001B[49m\n",
      "File \u001B[1;32m~\\scoop\\apps\\python\\3.11.3\\Lib\\site-packages\\cloudpickle\\cloudpickle_fast.py:73\u001B[0m, in \u001B[0;36mdumps\u001B[1;34m(obj, protocol, buffer_callback)\u001B[0m\n\u001B[0;32m     69\u001B[0m \u001B[38;5;28;01mwith\u001B[39;00m io\u001B[38;5;241m.\u001B[39mBytesIO() \u001B[38;5;28;01mas\u001B[39;00m file:\n\u001B[0;32m     70\u001B[0m     cp \u001B[38;5;241m=\u001B[39m CloudPickler(\n\u001B[0;32m     71\u001B[0m         file, protocol\u001B[38;5;241m=\u001B[39mprotocol, buffer_callback\u001B[38;5;241m=\u001B[39mbuffer_callback\n\u001B[0;32m     72\u001B[0m     )\n\u001B[1;32m---> 73\u001B[0m     \u001B[43mcp\u001B[49m\u001B[38;5;241;43m.\u001B[39;49m\u001B[43mdump\u001B[49m\u001B[43m(\u001B[49m\u001B[43mobj\u001B[49m\u001B[43m)\u001B[49m\n\u001B[0;32m     74\u001B[0m     \u001B[38;5;28;01mreturn\u001B[39;00m file\u001B[38;5;241m.\u001B[39mgetvalue()\n",
      "File \u001B[1;32m~\\scoop\\apps\\python\\3.11.3\\Lib\\site-packages\\cloudpickle\\cloudpickle_fast.py:632\u001B[0m, in \u001B[0;36mCloudPickler.dump\u001B[1;34m(self, obj)\u001B[0m\n\u001B[0;32m    630\u001B[0m \u001B[38;5;28;01mdef\u001B[39;00m \u001B[38;5;21mdump\u001B[39m(\u001B[38;5;28mself\u001B[39m, obj):\n\u001B[0;32m    631\u001B[0m     \u001B[38;5;28;01mtry\u001B[39;00m:\n\u001B[1;32m--> 632\u001B[0m         \u001B[38;5;28;01mreturn\u001B[39;00m \u001B[43mPickler\u001B[49m\u001B[38;5;241;43m.\u001B[39;49m\u001B[43mdump\u001B[49m\u001B[43m(\u001B[49m\u001B[38;5;28;43mself\u001B[39;49m\u001B[43m,\u001B[49m\u001B[43m \u001B[49m\u001B[43mobj\u001B[49m\u001B[43m)\u001B[49m\n\u001B[0;32m    633\u001B[0m     \u001B[38;5;28;01mexcept\u001B[39;00m \u001B[38;5;167;01mRuntimeError\u001B[39;00m \u001B[38;5;28;01mas\u001B[39;00m e:\n\u001B[0;32m    634\u001B[0m         \u001B[38;5;28;01mif\u001B[39;00m \u001B[38;5;124m\"\u001B[39m\u001B[38;5;124mrecursion\u001B[39m\u001B[38;5;124m\"\u001B[39m \u001B[38;5;129;01min\u001B[39;00m e\u001B[38;5;241m.\u001B[39margs[\u001B[38;5;241m0\u001B[39m]:\n",
      "\u001B[1;31mTypeError\u001B[0m: cannot pickle 'ale_py._ale_py.ALEInterface' object"
     ]
    }
   ],
   "source": [
    "seed = 42\n",
    "logs = \"logs\"\n",
    "model_path = \"models\"\n",
    "num_envs = 4\n",
    "\n",
    "# make an environment for breakout\n",
    "def make_env():\n",
    "    environment = gym.make(\"BreakoutNoFrameskip-v4\")\n",
    "    environment = gym.wrappers.AtariPreprocessing(environment)\n",
    "    environment = gym.wrappers.FrameStack(environment, num_stack=4)\n",
    "    return environment\n",
    "\n",
    "env = SubprocVecEnv([make_env() for _ in range(num_envs)])\n",
    "env = VecFrameStack(env, n_stack=num_envs)"
   ]
  },
  {
   "cell_type": "code",
   "execution_count": null,
   "metadata": {
    "ExecuteTime": {
     "start_time": "2023-06-01T07:15:26.722016Z"
    }
   },
   "outputs": [],
   "source": [
    "episodes = 5\n",
    "for episode in range(1, episodes+1):\n",
    "    state = env.reset()\n",
    "    done = np.array([False])\n",
    "\n",
    "    while not done.add():\n",
    "        env.render()\n",
    "        action = env.action_space.sample()\n",
    "        n_state, reward, done, info = env.step([action]*os.cpu_count())\n",
    "        print(done, reward, info)\n",
    "env.close()"
   ]
  },
  {
   "cell_type": "code",
   "execution_count": null,
   "metadata": {},
   "outputs": [],
   "source": [
    "model = PPO(\"CnnPolicy\", env, verbose=1, tensorboard_log=logs)"
   ]
  },
  {
   "cell_type": "code",
   "execution_count": null,
   "metadata": {},
   "outputs": [],
   "source": [
    "if os.path.exists(os.path.join(model_path, \"ppo_breakout\")):\n",
    "    model = PPO.load(os.path.join(model_path, \"ppo_breakout\"), env=env, device=\"cuda\")\n",
    "else:\n",
    "    model.learn(total_timesteps=100000)\n",
    "    model.save(os.path.join(model_path, \"ppo_breakout\"))"
   ]
  },
  {
   "cell_type": "code",
   "execution_count": null,
   "outputs": [],
   "source": [],
   "metadata": {
    "collapsed": false
   }
  },
  {
   "cell_type": "code",
   "execution_count": null,
   "outputs": [],
   "source": [],
   "metadata": {
    "collapsed": false
   }
  }
 ],
 "metadata": {
  "kernelspec": {
   "display_name": "Python 3",
   "language": "python",
   "name": "python3"
  },
  "language_info": {
   "codemirror_mode": {
    "name": "ipython",
    "version": 3
   },
   "file_extension": ".py",
   "mimetype": "text/x-python",
   "name": "python",
   "nbconvert_exporter": "python",
   "pygments_lexer": "ipython3",
   "version": "3.10.8"
  },
  "orig_nbformat": 4
 },
 "nbformat": 4,
 "nbformat_minor": 2
}
