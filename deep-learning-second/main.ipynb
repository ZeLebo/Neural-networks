{
 "cells": [
  {
   "cell_type": "code",
   "execution_count": 32,
   "metadata": {},
   "outputs": [],
   "source": [
    "# all that's needed\n",
    "# !pip install transformers\n",
    "\n",
    "import torch\n",
    "from torch.utils.data import TensorDataset, DataLoader\n",
    "from sklearn.model_selection import train_test_split\n",
    "from sklearn.metrics import f1_score\n",
    "\n",
    "from transformers import BertTokenizer, BertForSequenceClassification, AdamW, get_linear_schedule_with_warmup\n",
    "\n",
    "import pandas as pd\n",
    "import numpy as np\n",
    "\n",
    "from tqdm.notebook import tqdm\n",
    "tqdm.pandas()\n",
    "\n"
   ]
  },
  {
   "cell_type": "code",
   "execution_count": 33,
   "metadata": {},
   "outputs": [
    {
     "data": {
      "text/html": [
       "<div>\n",
       "<style scoped>\n",
       "    .dataframe tbody tr th:only-of-type {\n",
       "        vertical-align: middle;\n",
       "    }\n",
       "\n",
       "    .dataframe tbody tr th {\n",
       "        vertical-align: top;\n",
       "    }\n",
       "\n",
       "    .dataframe thead th {\n",
       "        text-align: right;\n",
       "    }\n",
       "</style>\n",
       "<table border=\"1\" class=\"dataframe\">\n",
       "  <thead>\n",
       "    <tr style=\"text-align: right;\">\n",
       "      <th></th>\n",
       "      <th>Unnamed: 0</th>\n",
       "      <th>text</th>\n",
       "      <th>label</th>\n",
       "      <th>id</th>\n",
       "    </tr>\n",
       "  </thead>\n",
       "  <tbody>\n",
       "    <tr>\n",
       "      <th>0</th>\n",
       "      <td>0</td>\n",
       "      <td>@varlamov @McFaul На</td>\n",
       "      <td>skip</td>\n",
       "      <td>1327934765807308801</td>\n",
       "    </tr>\n",
       "    <tr>\n",
       "      <th>1</th>\n",
       "      <td>1</td>\n",
       "      <td>велл они  всё равно что мусор так что ничего с...</td>\n",
       "      <td>negative</td>\n",
       "      <td>1252943181387350017</td>\n",
       "    </tr>\n",
       "    <tr>\n",
       "      <th>2</th>\n",
       "      <td>2</td>\n",
       "      <td>\"трезвая жизнь какая-то такая стрёмная\"\\r\\n(с)...</td>\n",
       "      <td>negative</td>\n",
       "      <td>1323610669061677056</td>\n",
       "    </tr>\n",
       "    <tr>\n",
       "      <th>3</th>\n",
       "      <td>3</td>\n",
       "      <td>Ой какие неожиданные результаты 🤭 https://t.co...</td>\n",
       "      <td>neutral</td>\n",
       "      <td>1336231661160247297</td>\n",
       "    </tr>\n",
       "    <tr>\n",
       "      <th>4</th>\n",
       "      <td>4</td>\n",
       "      <td>@Shvonder_chief @dimsmirnov175 На заборе тоже ...</td>\n",
       "      <td>neutral</td>\n",
       "      <td>1292421736454127617</td>\n",
       "    </tr>\n",
       "  </tbody>\n",
       "</table>\n",
       "</div>"
      ],
      "text/plain": [
       "   Unnamed: 0                                               text     label  \\\n",
       "0           0                               @varlamov @McFaul На      skip   \n",
       "1           1  велл они  всё равно что мусор так что ничего с...  negative   \n",
       "2           2  \"трезвая жизнь какая-то такая стрёмная\"\\r\\n(с)...  negative   \n",
       "3           3  Ой какие неожиданные результаты 🤭 https://t.co...   neutral   \n",
       "4           4  @Shvonder_chief @dimsmirnov175 На заборе тоже ...   neutral   \n",
       "\n",
       "                    id  \n",
       "0  1327934765807308801  \n",
       "1  1252943181387350017  \n",
       "2  1323610669061677056  \n",
       "3  1336231661160247297  \n",
       "4  1292421736454127617  "
      ]
     },
     "execution_count": 33,
     "metadata": {},
     "output_type": "execute_result"
    }
   ],
   "source": [
    "# Load the data\n",
    "df = pd.read_csv(\"data/rusentitweet_full.csv\")\n",
    "df.head()"
   ]
  },
  {
   "cell_type": "code",
   "execution_count": 34,
   "metadata": {},
   "outputs": [
    {
     "name": "stdout",
     "output_type": "stream",
     "text": [
      "[0 4 2 3 1]\n"
     ]
    }
   ],
   "source": [
    "# change label column to int value\n",
    "def change_label(label):\n",
    "    match label:\n",
    "        case 'skip':\n",
    "            return 0\n",
    "        case 'positive':\n",
    "            return 1\n",
    "        case 'neutral':\n",
    "            return 2\n",
    "        case 'speech':\n",
    "            return 3\n",
    "        case 'negative':\n",
    "            return 4\n",
    "\n",
    "df['label'] = df['label'].apply(change_label)\n",
    "\n",
    "# print all unique labels\n",
    "print(df['label'].unique())"
   ]
  },
  {
   "cell_type": "code",
   "execution_count": 35,
   "metadata": {},
   "outputs": [],
   "source": [
    "# function to clean the text\n",
    "import regex as re\n",
    "# in this case we will remove usernames, hashtags, links and emojis\n",
    "# also we will remove all punctuation\n",
    "# and we will lowercase the text\n",
    "def clean_text(text):\n",
    "    text = text.lower()\n",
    "    # remove usernames\n",
    "    text = re.sub(r'@\\w+', '', text)\n",
    "    # remove hashtags\n",
    "    text = re.sub(r'#\\w+', '', text)\n",
    "    # remove links\n",
    "    text = re.sub(r'http\\S+', '', text)\n",
    "    # remove emojis\n",
    "    text = re.sub(r'\\\\x\\S+', '', text)\n",
    "    # remove punctuation\n",
    "    text = re.sub(r'[^\\w\\s]', '', text)\n",
    "    return text"
   ]
  },
  {
   "cell_type": "code",
   "execution_count": 36,
   "metadata": {},
   "outputs": [
    {
     "data": {
      "text/html": [
       "<div>\n",
       "<style scoped>\n",
       "    .dataframe tbody tr th:only-of-type {\n",
       "        vertical-align: middle;\n",
       "    }\n",
       "\n",
       "    .dataframe tbody tr th {\n",
       "        vertical-align: top;\n",
       "    }\n",
       "\n",
       "    .dataframe thead th {\n",
       "        text-align: right;\n",
       "    }\n",
       "</style>\n",
       "<table border=\"1\" class=\"dataframe\">\n",
       "  <thead>\n",
       "    <tr style=\"text-align: right;\">\n",
       "      <th></th>\n",
       "      <th>Unnamed: 0</th>\n",
       "      <th>text</th>\n",
       "      <th>label</th>\n",
       "      <th>id</th>\n",
       "    </tr>\n",
       "  </thead>\n",
       "  <tbody>\n",
       "    <tr>\n",
       "      <th>0</th>\n",
       "      <td>0</td>\n",
       "      <td>на</td>\n",
       "      <td>0</td>\n",
       "      <td>1327934765807308801</td>\n",
       "    </tr>\n",
       "    <tr>\n",
       "      <th>1</th>\n",
       "      <td>1</td>\n",
       "      <td>велл они  всё равно что мусор так что ничего с...</td>\n",
       "      <td>4</td>\n",
       "      <td>1252943181387350017</td>\n",
       "    </tr>\n",
       "    <tr>\n",
       "      <th>2</th>\n",
       "      <td>2</td>\n",
       "      <td>трезвая жизнь какаято такая стрёмная\\r\\nс артё...</td>\n",
       "      <td>4</td>\n",
       "      <td>1323610669061677056</td>\n",
       "    </tr>\n",
       "    <tr>\n",
       "      <th>3</th>\n",
       "      <td>3</td>\n",
       "      <td>ой какие неожиданные результаты</td>\n",
       "      <td>2</td>\n",
       "      <td>1336231661160247297</td>\n",
       "    </tr>\n",
       "    <tr>\n",
       "      <th>4</th>\n",
       "      <td>4</td>\n",
       "      <td>на заборе тоже написаноа там другоео сборе д...</td>\n",
       "      <td>2</td>\n",
       "      <td>1292421736454127617</td>\n",
       "    </tr>\n",
       "  </tbody>\n",
       "</table>\n",
       "</div>"
      ],
      "text/plain": [
       "   Unnamed: 0                                               text  label  \\\n",
       "0           0                                                 на      0   \n",
       "1           1  велл они  всё равно что мусор так что ничего с...      4   \n",
       "2           2  трезвая жизнь какаято такая стрёмная\\r\\nс артё...      4   \n",
       "3           3                  ой какие неожиданные результаты        2   \n",
       "4           4    на заборе тоже написаноа там другоео сборе д...      2   \n",
       "\n",
       "                    id  \n",
       "0  1327934765807308801  \n",
       "1  1252943181387350017  \n",
       "2  1323610669061677056  \n",
       "3  1336231661160247297  \n",
       "4  1292421736454127617  "
      ]
     },
     "execution_count": 36,
     "metadata": {},
     "output_type": "execute_result"
    }
   ],
   "source": [
    "# prepare the data\n",
    "df['text'] = df['text'].apply(clean_text)\n",
    "df.head()"
   ]
  },
  {
   "cell_type": "code",
   "execution_count": 37,
   "metadata": {},
   "outputs": [],
   "source": [
    "# tokenazation of the text\n",
    "from transformers import BertTokenizer\n",
    "tokenizer = BertTokenizer.from_pretrained('DeepPavlov/rubert-base-cased-sentence')"
   ]
  },
  {
   "cell_type": "code",
   "execution_count": 38,
   "metadata": {},
   "outputs": [
    {
     "data": {
      "application/vnd.jupyter.widget-view+json": {
       "model_id": "ddfa5053e9ca46c3be4e000c599e34a1",
       "version_major": 2,
       "version_minor": 0
      },
      "text/plain": [
       "  0%|          | 0/13392 [00:00<?, ?it/s]"
      ]
     },
     "metadata": {},
     "output_type": "display_data"
    },
    {
     "name": "stderr",
     "output_type": "stream",
     "text": [
      "c:\\Users\\sarta\\AppData\\Local\\Programs\\Python\\Python310\\lib\\site-packages\\transformers\\tokenization_utils_base.py:2346: FutureWarning: The `pad_to_max_length` argument is deprecated and will be removed in a future version, use `padding=True` or `padding='longest'` to pad to the longest sequence in the batch, or use `padding='max_length'` to pad to a max length. In this case, you can give a specific length with `max_length` (e.g. `max_length=45`) or leave max_length to None to pad to the maximal input size of the model (e.g. 512 for Bert).\n",
      "  warnings.warn(\n"
     ]
    },
    {
     "data": {
      "text/html": [
       "<div>\n",
       "<style scoped>\n",
       "    .dataframe tbody tr th:only-of-type {\n",
       "        vertical-align: middle;\n",
       "    }\n",
       "\n",
       "    .dataframe tbody tr th {\n",
       "        vertical-align: top;\n",
       "    }\n",
       "\n",
       "    .dataframe thead th {\n",
       "        text-align: right;\n",
       "    }\n",
       "</style>\n",
       "<table border=\"1\" class=\"dataframe\">\n",
       "  <thead>\n",
       "    <tr style=\"text-align: right;\">\n",
       "      <th></th>\n",
       "      <th>Unnamed: 0</th>\n",
       "      <th>text</th>\n",
       "      <th>label</th>\n",
       "      <th>id</th>\n",
       "      <th>input_ids</th>\n",
       "      <th>attention_mask</th>\n",
       "    </tr>\n",
       "  </thead>\n",
       "  <tbody>\n",
       "    <tr>\n",
       "      <th>0</th>\n",
       "      <td>0</td>\n",
       "      <td>на</td>\n",
       "      <td>0</td>\n",
       "      <td>1327934765807308801</td>\n",
       "      <td>[[tensor(101), tensor(1469), tensor(102), tens...</td>\n",
       "      <td>[[tensor(1), tensor(1), tensor(1), tensor(0), ...</td>\n",
       "    </tr>\n",
       "    <tr>\n",
       "      <th>1</th>\n",
       "      <td>1</td>\n",
       "      <td>велл они  всё равно что мусор так что ничего с...</td>\n",
       "      <td>4</td>\n",
       "      <td>1252943181387350017</td>\n",
       "      <td>[[tensor(101), tensor(12044), tensor(864), ten...</td>\n",
       "      <td>[[tensor(1), tensor(1), tensor(1), tensor(1), ...</td>\n",
       "    </tr>\n",
       "    <tr>\n",
       "      <th>2</th>\n",
       "      <td>2</td>\n",
       "      <td>трезвая жизнь какаято такая стрёмная\\r\\nс артё...</td>\n",
       "      <td>4</td>\n",
       "      <td>1323610669061677056</td>\n",
       "      <td>[[tensor(101), tensor(67121), tensor(1637), te...</td>\n",
       "      <td>[[tensor(1), tensor(1), tensor(1), tensor(1), ...</td>\n",
       "    </tr>\n",
       "    <tr>\n",
       "      <th>3</th>\n",
       "      <td>3</td>\n",
       "      <td>ой какие неожиданные результаты</td>\n",
       "      <td>2</td>\n",
       "      <td>1336231661160247297</td>\n",
       "      <td>[[tensor(101), tensor(32589), tensor(19201), t...</td>\n",
       "      <td>[[tensor(1), tensor(1), tensor(1), tensor(1), ...</td>\n",
       "    </tr>\n",
       "    <tr>\n",
       "      <th>4</th>\n",
       "      <td>4</td>\n",
       "      <td>на заборе тоже написаноа там другоео сборе д...</td>\n",
       "      <td>2</td>\n",
       "      <td>1292421736454127617</td>\n",
       "      <td>[[tensor(101), tensor(1469), tensor(37272), te...</td>\n",
       "      <td>[[tensor(1), tensor(1), tensor(1), tensor(1), ...</td>\n",
       "    </tr>\n",
       "  </tbody>\n",
       "</table>\n",
       "</div>"
      ],
      "text/plain": [
       "   Unnamed: 0                                               text  label  \\\n",
       "0           0                                                 на      0   \n",
       "1           1  велл они  всё равно что мусор так что ничего с...      4   \n",
       "2           2  трезвая жизнь какаято такая стрёмная\\r\\nс артё...      4   \n",
       "3           3                  ой какие неожиданные результаты        2   \n",
       "4           4    на заборе тоже написаноа там другоео сборе д...      2   \n",
       "\n",
       "                    id                                          input_ids  \\\n",
       "0  1327934765807308801  [[tensor(101), tensor(1469), tensor(102), tens...   \n",
       "1  1252943181387350017  [[tensor(101), tensor(12044), tensor(864), ten...   \n",
       "2  1323610669061677056  [[tensor(101), tensor(67121), tensor(1637), te...   \n",
       "3  1336231661160247297  [[tensor(101), tensor(32589), tensor(19201), t...   \n",
       "4  1292421736454127617  [[tensor(101), tensor(1469), tensor(37272), te...   \n",
       "\n",
       "                                      attention_mask  \n",
       "0  [[tensor(1), tensor(1), tensor(1), tensor(0), ...  \n",
       "1  [[tensor(1), tensor(1), tensor(1), tensor(1), ...  \n",
       "2  [[tensor(1), tensor(1), tensor(1), tensor(1), ...  \n",
       "3  [[tensor(1), tensor(1), tensor(1), tensor(1), ...  \n",
       "4  [[tensor(1), tensor(1), tensor(1), tensor(1), ...  "
      ]
     },
     "execution_count": 38,
     "metadata": {},
     "output_type": "execute_result"
    }
   ],
   "source": [
    "def tokenize(text):\n",
    "    res = tokenizer.encode_plus(\n",
    "        text,\n",
    "        max_length=128,\n",
    "        pad_to_max_length=True,\n",
    "        truncation=True,\n",
    "        return_tensors='pt'\n",
    "    )\n",
    "    return pd.Series([res['input_ids'], res['attention_mask']])\n",
    "\n",
    "df[['input_ids', 'attention_mask']] = df['text'].progress_apply(tokenize)\n",
    "df.head()"
   ]
  },
  {
   "cell_type": "code",
   "execution_count": 39,
   "metadata": {},
   "outputs": [],
   "source": [
    "# split the data\n",
    "test_size = 0.2\n",
    "batch_size = 32\n",
    "\n",
    "train_df, test_df = train_test_split(\n",
    "    df,\n",
    "    test_size=test_size,\n",
    "    # shuffle=True,\n",
    "    random_state=42,\n",
    "    stratify=df['label'].values\n",
    ")\n",
    "\n",
    "train_set = TensorDataset(\n",
    "    torch.cat(list(train_df[\"input_ids\"].values), dim = 0),\n",
    "    torch.cat(list(train_df[\"attention_mask\"].values), dim = 0),\n",
    "    torch.tensor(train_df[\"label\"].values)\n",
    ")\n",
    "\n",
    "test_set = TensorDataset(\n",
    "    torch.cat(list(test_df[\"input_ids\"].values), dim = 0),\n",
    "    torch.cat(list(test_df[\"attention_mask\"].values), dim = 0),\n",
    "    torch.tensor(test_df[\"label\"].values)\n",
    ")\n",
    "\n",
    "train_dataloader = DataLoader(\n",
    "    train_set, \n",
    "    batch_size=batch_size, \n",
    "    shuffle=True\n",
    ")\n",
    "\n",
    "test_dataloader = DataLoader(\n",
    "    test_set, \n",
    "    batch_size=batch_size, \n",
    "    shuffle=True\n",
    ")"
   ]
  },
  {
   "cell_type": "code",
   "execution_count": 40,
   "metadata": {},
   "outputs": [
    {
     "name": "stdout",
     "output_type": "stream",
     "text": [
      "cuda\n"
     ]
    }
   ],
   "source": [
    "device = torch.device('cuda' if torch.cuda.is_available() else 'cpu')\n",
    "print(device)"
   ]
  },
  {
   "cell_type": "code",
   "execution_count": 41,
   "metadata": {},
   "outputs": [
    {
     "name": "stderr",
     "output_type": "stream",
     "text": [
      "Some weights of BertForSequenceClassification were not initialized from the model checkpoint at DeepPavlov/rubert-base-cased-sentence and are newly initialized: ['classifier.weight', 'classifier.bias']\n",
      "You should probably TRAIN this model on a down-stream task to be able to use it for predictions and inference.\n"
     ]
    },
    {
     "data": {
      "text/plain": [
       "BertForSequenceClassification(\n",
       "  (bert): BertModel(\n",
       "    (embeddings): BertEmbeddings(\n",
       "      (word_embeddings): Embedding(119547, 768, padding_idx=0)\n",
       "      (position_embeddings): Embedding(512, 768)\n",
       "      (token_type_embeddings): Embedding(2, 768)\n",
       "      (LayerNorm): LayerNorm((768,), eps=1e-12, elementwise_affine=True)\n",
       "      (dropout): Dropout(p=0.1, inplace=False)\n",
       "    )\n",
       "    (encoder): BertEncoder(\n",
       "      (layer): ModuleList(\n",
       "        (0-11): 12 x BertLayer(\n",
       "          (attention): BertAttention(\n",
       "            (self): BertSelfAttention(\n",
       "              (query): Linear(in_features=768, out_features=768, bias=True)\n",
       "              (key): Linear(in_features=768, out_features=768, bias=True)\n",
       "              (value): Linear(in_features=768, out_features=768, bias=True)\n",
       "              (dropout): Dropout(p=0.1, inplace=False)\n",
       "            )\n",
       "            (output): BertSelfOutput(\n",
       "              (dense): Linear(in_features=768, out_features=768, bias=True)\n",
       "              (LayerNorm): LayerNorm((768,), eps=1e-12, elementwise_affine=True)\n",
       "              (dropout): Dropout(p=0.1, inplace=False)\n",
       "            )\n",
       "          )\n",
       "          (intermediate): BertIntermediate(\n",
       "            (dense): Linear(in_features=768, out_features=3072, bias=True)\n",
       "            (intermediate_act_fn): GELUActivation()\n",
       "          )\n",
       "          (output): BertOutput(\n",
       "            (dense): Linear(in_features=3072, out_features=768, bias=True)\n",
       "            (LayerNorm): LayerNorm((768,), eps=1e-12, elementwise_affine=True)\n",
       "            (dropout): Dropout(p=0.1, inplace=False)\n",
       "          )\n",
       "        )\n",
       "      )\n",
       "    )\n",
       "    (pooler): BertPooler(\n",
       "      (dense): Linear(in_features=768, out_features=768, bias=True)\n",
       "      (activation): Tanh()\n",
       "    )\n",
       "  )\n",
       "  (dropout): Dropout(p=0.1, inplace=False)\n",
       "  (classifier): Linear(in_features=768, out_features=5, bias=True)\n",
       ")"
      ]
     },
     "execution_count": 41,
     "metadata": {},
     "output_type": "execute_result"
    }
   ],
   "source": [
    "# model first\n",
    "bert_model = BertForSequenceClassification.from_pretrained(\n",
    "    'DeepPavlov/rubert-base-cased-sentence', \n",
    "    num_labels=5,\n",
    ")\n",
    "\n",
    "bert_model.to(device)"
   ]
  },
  {
   "cell_type": "code",
   "execution_count": 42,
   "metadata": {},
   "outputs": [
    {
     "name": "stderr",
     "output_type": "stream",
     "text": [
      "Some weights of BertForSequenceClassification were not initialized from the model checkpoint at DeepPavlov/rubert-base-cased-sentence and are newly initialized: ['classifier.weight', 'classifier.bias']\n",
      "You should probably TRAIN this model on a down-stream task to be able to use it for predictions and inference.\n"
     ]
    },
    {
     "data": {
      "text/plain": [
       "BertForSequenceClassification(\n",
       "  (bert): BertModel(\n",
       "    (embeddings): BertEmbeddings(\n",
       "      (word_embeddings): Embedding(119547, 768, padding_idx=0)\n",
       "      (position_embeddings): Embedding(512, 768)\n",
       "      (token_type_embeddings): Embedding(2, 768)\n",
       "      (LayerNorm): LayerNorm((768,), eps=1e-12, elementwise_affine=True)\n",
       "      (dropout): Dropout(p=0.1, inplace=False)\n",
       "    )\n",
       "    (encoder): BertEncoder(\n",
       "      (layer): ModuleList(\n",
       "        (0-11): 12 x BertLayer(\n",
       "          (attention): BertAttention(\n",
       "            (self): BertSelfAttention(\n",
       "              (query): Linear(in_features=768, out_features=768, bias=True)\n",
       "              (key): Linear(in_features=768, out_features=768, bias=True)\n",
       "              (value): Linear(in_features=768, out_features=768, bias=True)\n",
       "              (dropout): Dropout(p=0.1, inplace=False)\n",
       "            )\n",
       "            (output): BertSelfOutput(\n",
       "              (dense): Linear(in_features=768, out_features=768, bias=True)\n",
       "              (LayerNorm): LayerNorm((768,), eps=1e-12, elementwise_affine=True)\n",
       "              (dropout): Dropout(p=0.1, inplace=False)\n",
       "            )\n",
       "          )\n",
       "          (intermediate): BertIntermediate(\n",
       "            (dense): Linear(in_features=768, out_features=3072, bias=True)\n",
       "            (intermediate_act_fn): GELUActivation()\n",
       "          )\n",
       "          (output): BertOutput(\n",
       "            (dense): Linear(in_features=3072, out_features=768, bias=True)\n",
       "            (LayerNorm): LayerNorm((768,), eps=1e-12, elementwise_affine=True)\n",
       "            (dropout): Dropout(p=0.1, inplace=False)\n",
       "          )\n",
       "        )\n",
       "      )\n",
       "    )\n",
       "    (pooler): BertPooler(\n",
       "      (dense): Linear(in_features=768, out_features=768, bias=True)\n",
       "      (activation): Tanh()\n",
       "    )\n",
       "  )\n",
       "  (dropout): Dropout(p=0.1, inplace=False)\n",
       "  (classifier): Linear(in_features=768, out_features=5, bias=True)\n",
       ")"
      ]
     },
     "execution_count": 42,
     "metadata": {},
     "output_type": "execute_result"
    }
   ],
   "source": [
    "from transformers import AutoModelForSequenceClassification\n",
    "auto_model = AutoModelForSequenceClassification.from_pretrained(\n",
    "    \"DeepPavlov/rubert-base-cased-sentence\",\n",
    "    num_labels=5,\n",
    ")\n",
    "auto_model.to(device)"
   ]
  },
  {
   "cell_type": "code",
   "execution_count": 43,
   "metadata": {},
   "outputs": [
    {
     "name": "stderr",
     "output_type": "stream",
     "text": [
      "c:\\Users\\sarta\\AppData\\Local\\Programs\\Python\\Python310\\lib\\site-packages\\transformers\\optimization.py:391: FutureWarning: This implementation of AdamW is deprecated and will be removed in a future version. Use the PyTorch implementation torch.optim.AdamW instead, or set `no_deprecation_warning=True` to disable this warning\n",
      "  warnings.warn(\n"
     ]
    }
   ],
   "source": [
    "epochs = 2\n",
    "optimizer = AdamW(bert_model.parameters(), lr=2e-5, eps=1e-8)\n",
    "total_steps = len(train_dataloader) * epochs\n",
    "\n",
    "scheduler = get_linear_schedule_with_warmup(\n",
    "    optimizer,\n",
    "    num_warmup_steps=0,\n",
    "    num_training_steps=total_steps\n",
    ")\n",
    "\n",
    "def train(model, train_dataloader, test_dataloader, epochs, optimizer, scheduler):\n",
    "    for epoch in range(epochs):\n",
    "        model.train()\n",
    "        train_loss = 0\n",
    "        train_f1 = 0\n",
    "        for batch in tqdm(train_dataloader):\n",
    "            batch = tuple(t.to(device) for t in batch)\n",
    "            input_ids, attention_mask, labels = batch\n",
    "            optimizer.zero_grad()\n",
    "            outputs = model(\n",
    "                input_ids=input_ids,\n",
    "                attention_mask=attention_mask,\n",
    "                labels=labels\n",
    "            )\n",
    "            loss = outputs[0]\n",
    "            train_loss += loss.item()\n",
    "            loss.backward()\n",
    "            optimizer.step()\n",
    "            scheduler.step()\n",
    "            model.zero_grad()\n",
    "        train_loss /= len(train_dataloader)\n",
    "        train_f1 /= len(train_dataloader)\n",
    "        print(f\"Epoch: {epoch+1}\")\n",
    "        print(f\"Train Loss: {train_loss}\")\n",
    "        print(f\"Train F1: {train_f1}\")\n",
    "        print(\"Evaluating...\")\n",
    "        model.eval()\n",
    "        test_loss = 0\n",
    "        test_f1 = 0\n",
    "        for batch in tqdm(test_dataloader):\n",
    "            batch = tuple(t.to(device) for t in batch)\n",
    "            input_ids, attention_mask, labels = batch\n",
    "            with torch.no_grad():\n",
    "                outputs = model(\n",
    "                    input_ids=input_ids,\n",
    "                    attention_mask=attention_mask,\n",
    "                    labels=labels\n",
    "                )\n",
    "            loss = outputs[0]\n",
    "            logits = outputs[1]\n",
    "            test_loss += loss.item()\n",
    "            preds = torch.argmax(logits, dim=1).flatten()\n",
    "            # test_f1 += f1_score(labels, preds, average='macro')\n",
    "            # use Tensor.CPU() to convert the tensor to a numpy array\n",
    "            test_f1 += f1_score(labels.cpu(), preds.cpu(), average='macro')\n",
    "        test_loss /= len(test_dataloader)\n",
    "        test_f1 /= len(test_dataloader)\n",
    "        print(f\"Test Loss: {test_loss}\")\n",
    "        print(f\"Test F1: {test_f1}\")\n"
   ]
  },
  {
   "cell_type": "code",
   "execution_count": 44,
   "metadata": {},
   "outputs": [
    {
     "data": {
      "application/vnd.jupyter.widget-view+json": {
       "model_id": "a74381d168f94053913a9848f8572213",
       "version_major": 2,
       "version_minor": 0
      },
      "text/plain": [
       "  0%|          | 0/335 [00:00<?, ?it/s]"
      ]
     },
     "metadata": {},
     "output_type": "display_data"
    },
    {
     "name": "stdout",
     "output_type": "stream",
     "text": [
      "Epoch: 1\n",
      "Train Loss: 1.0253152303731263\n",
      "Train F1: 0.0\n",
      "Evaluating...\n"
     ]
    },
    {
     "data": {
      "application/vnd.jupyter.widget-view+json": {
       "model_id": "3100e42462fa469bbe9575f331648ef8",
       "version_major": 2,
       "version_minor": 0
      },
      "text/plain": [
       "  0%|          | 0/84 [00:00<?, ?it/s]"
      ]
     },
     "metadata": {},
     "output_type": "display_data"
    },
    {
     "name": "stdout",
     "output_type": "stream",
     "text": [
      "Test Loss: 0.9221071029702822\n",
      "Test F1: 0.6078717153950917\n"
     ]
    },
    {
     "data": {
      "application/vnd.jupyter.widget-view+json": {
       "model_id": "438d78dd434a433fa62dbcbd03f68e86",
       "version_major": 2,
       "version_minor": 0
      },
      "text/plain": [
       "  0%|          | 0/335 [00:00<?, ?it/s]"
      ]
     },
     "metadata": {},
     "output_type": "display_data"
    },
    {
     "name": "stdout",
     "output_type": "stream",
     "text": [
      "Epoch: 2\n",
      "Train Loss: 0.7521239144588584\n",
      "Train F1: 0.0\n",
      "Evaluating...\n"
     ]
    },
    {
     "data": {
      "application/vnd.jupyter.widget-view+json": {
       "model_id": "c9b46712202944b58bba35c0a99d2a3e",
       "version_major": 2,
       "version_minor": 0
      },
      "text/plain": [
       "  0%|          | 0/84 [00:00<?, ?it/s]"
      ]
     },
     "metadata": {},
     "output_type": "display_data"
    },
    {
     "name": "stdout",
     "output_type": "stream",
     "text": [
      "Test Loss: 0.9137652023207574\n",
      "Test F1: 0.6201265198860558\n"
     ]
    }
   ],
   "source": [
    "train(bert_model, train_dataloader, test_dataloader, epochs, optimizer, scheduler)\n",
    "\n",
    "# save the model\n",
    "torch.save(bert_model.state_dict(), 'models/bert_model.pt')"
   ]
  },
  {
   "cell_type": "code",
   "execution_count": 45,
   "metadata": {},
   "outputs": [],
   "source": [
    "import os\n",
    "\n",
    "def predict(text) -> str:\n",
    "    # in theory if you wanna have this function in a separate file\n",
    "    # you need to inline the functions that are used inside this function\n",
    "    # and import the BertForSequenceClassification model from the transformers library\n",
    "    # after this, you can use the func as a standalone\n",
    "    if clean_text is None:\n",
    "        raise Exception('clean_text function is not defined go to my github and copy it from there')\n",
    "    if tokenize is None:\n",
    "        raise Exception('tokenize function is not defined go to my github and copy it from there')\n",
    "    text = clean_text(text)\n",
    "    input_ids, attention_mask = tokenize(text)\n",
    "    input_ids = input_ids.to(device)\n",
    "    attention_mask = attention_mask.to(device)\n",
    "    # load the bert model from the saved state if it's not already loaded\n",
    "    if not os.path.exists('models/bert_model.pt'):\n",
    "        raise Exception('the model is not trained yet')\n",
    "    bert_model.load_state_dict(torch.load('models/bert_model.pt'))\n",
    "    bert_model.to(device)\n",
    "\n",
    "    bert_model.eval()\n",
    "    with torch.no_grad():\n",
    "        outputs = bert_model(\n",
    "            input_ids=input_ids,\n",
    "            attention_mask=attention_mask\n",
    "        )\n",
    "    logits = outputs[0]\n",
    "    preds = torch.argmax(logits, dim=1).flatten()\n",
    "\n",
    "    match preds.item():\n",
    "        case 0:\n",
    "            return \"the sentence is skipped due to low confidence\"\n",
    "        case 1:\n",
    "            return \"positive\"\n",
    "        case 2:\n",
    "            return \"neutral, the text is balanced\"\n",
    "        case 3:\n",
    "            return \"speech, it's a regular text\"\n",
    "        case 4:\n",
    "            return \"negative, ban this user\"\n",
    "        case _:\n",
    "            return \"unknown\"\n",
    "\n",
    "def predict_with_input(text) -> (str, str):\n",
    "    res = predict(text)\n",
    "    return f\"{text} -> {res}\\n\""
   ]
  },
  {
   "cell_type": "code",
   "execution_count": 49,
   "metadata": {},
   "outputs": [
    {
     "name": "stdout",
     "output_type": "stream",
     "text": [
      "Сегодня был очень хороший день -> positive\n",
      " Я твой рот в кино водил -> neutral, the text is balanced\n",
      " Я не хочу тебя больше видеть -> negative, ban this user\n",
      " Собака ты сутулая -> negative, ban this user\n",
      " Тварь ты сутулая -> negative, ban this user\n",
      " Собака ты сутулая, ты мне нравишься -> positive\n",
      "\n"
     ]
    }
   ],
   "source": [
    "print(\n",
    "    predict_with_input(\"Сегодня был очень хороший день\"),\n",
    "    predict_with_input(\"Я твой рот в кино водил\"),\n",
    "    predict_with_input(\"Я не хочу тебя больше видеть\"),\n",
    "    predict_with_input(\"Собака ты сутулая\"),\n",
    "    predict_with_input(\"Тварь ты сутулая\"),\n",
    "    predict_with_input(\"Собака ты сутулая, ты мне нравишься\"),\n",
    ")"
   ]
  }
 ],
 "metadata": {
  "kernelspec": {
   "display_name": "Python 3",
   "language": "python",
   "name": "python3"
  },
  "language_info": {
   "codemirror_mode": {
    "name": "ipython",
    "version": 3
   },
   "file_extension": ".py",
   "mimetype": "text/x-python",
   "name": "python",
   "nbconvert_exporter": "python",
   "pygments_lexer": "ipython3",
   "version": "3.10.6"
  },
  "orig_nbformat": 4,
  "vscode": {
   "interpreter": {
    "hash": "1758c422341b4cce18509b79fc2bf340f30e5005ef447d908764f277473e4a64"
   }
  }
 },
 "nbformat": 4,
 "nbformat_minor": 2
}
